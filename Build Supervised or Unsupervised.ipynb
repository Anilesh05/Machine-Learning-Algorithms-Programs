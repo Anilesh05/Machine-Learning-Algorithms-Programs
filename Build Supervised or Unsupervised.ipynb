{
 "cells": [
  {
   "cell_type": "code",
   "execution_count": 1,
   "id": "3ee16ef4-47b5-48f4-b633-829c448b8e50",
   "metadata": {},
   "outputs": [],
   "source": [
    "import pandas as pd\n",
    "from sklearn.datasets import load_iris\n",
    "from sklearn.preprocessing import StandardScaler"
   ]
  },
  {
   "cell_type": "code",
   "execution_count": 2,
   "id": "f946338b-0a5e-47d5-9bc7-524e34dc28f4",
   "metadata": {},
   "outputs": [],
   "source": [
    "iris=load_iris()\n",
    "X=pd.DataFrame(iris.data,columns=iris.feature_names)"
   ]
  },
  {
   "cell_type": "code",
   "execution_count": 3,
   "id": "aaba3d57-17af-43be-96f9-982c7019b375",
   "metadata": {},
   "outputs": [],
   "source": [
    "Scaler=StandardScaler()\n",
    "X_Scaled=Scaler.fit_transform(X)"
   ]
  },
  {
   "cell_type": "code",
   "execution_count": 4,
   "id": "7a562d12-3f5a-4b81-aaef-0f497bba71bb",
   "metadata": {},
   "outputs": [
    {
     "name": "stderr",
     "output_type": "stream",
     "text": [
      "E:\\Anilesh\\anaconda3\\Lib\\site-packages\\sklearn\\cluster\\_kmeans.py:870: FutureWarning: The default value of `n_init` will change from 10 to 'auto' in 1.4. Set the value of `n_init` explicitly to suppress the warning\n",
      "  warnings.warn(\n",
      "E:\\Anilesh\\anaconda3\\Lib\\site-packages\\sklearn\\cluster\\_kmeans.py:1382: UserWarning: KMeans is known to have a memory leak on Windows with MKL, when there are less chunks than available threads. You can avoid it by setting the environment variable OMP_NUM_THREADS=1.\n",
      "  warnings.warn(\n"
     ]
    }
   ],
   "source": [
    "from sklearn.cluster import KMeans\n",
    "from sklearn.metrics import silhouette_score\n",
    "kmeans=KMeans(n_clusters=3,random_state=42)\n",
    "kmeans_labels=kmeans.fit_predict(X_Scaled)"
   ]
  },
  {
   "cell_type": "code",
   "execution_count": 5,
   "id": "1157378c-1679-49d4-9f78-93fc6a921a42",
   "metadata": {},
   "outputs": [
    {
     "name": "stdout",
     "output_type": "stream",
     "text": [
      "K-Means Silhouette Score: 0.45994823920518635\n"
     ]
    }
   ],
   "source": [
    "kmeans_silhouette=silhouette_score(X_Scaled, kmeans_labels)\n",
    "print(f'K-Means Silhouette Score: {kmeans_silhouette}')"
   ]
  },
  {
   "cell_type": "code",
   "execution_count": 6,
   "id": "9d4bb46b-2e26-40d1-b346-db1f3676c54c",
   "metadata": {},
   "outputs": [],
   "source": [
    "import torch\n",
    "import torch.nn as nn\n",
    "import torch.optim as optim\n",
    "from torch.utils.data import DataLoader, TensorDataset\n",
    "X_tensor=torch.tensor(X_Scaled, dtype=torch.float32)"
   ]
  },
  {
   "cell_type": "code",
   "execution_count": 7,
   "id": "58fc5649-cb6f-4ae7-9dec-ab0f0e3b53b2",
   "metadata": {},
   "outputs": [],
   "source": [
    "data_loader=DataLoader(TensorDataset(X_tensor),batch_size=16,shuffle=True)"
   ]
  },
  {
   "cell_type": "code",
   "execution_count": 8,
   "id": "ce31cb32-ded1-4a04-9ba0-b560904c269b",
   "metadata": {},
   "outputs": [],
   "source": [
    "class Autoencoder(nn.Module):\n",
    "    def __init__(self):\n",
    "        super(Autoencoder, self).__init__()\n",
    "        self.encoder=nn.Sequential(\n",
    "            nn.Linear(4,2),\n",
    "            nn.ReLU()\n",
    "        )\n",
    "        self.decoder=nn.Sequential(\n",
    "            nn.Linear(2,4),\n",
    "            nn.ReLU()\n",
    "        )\n",
    "    def forward(self,x):\n",
    "        encoded=self.encoder(x)\n",
    "        decoded=self.decoder(encoded)\n",
    "        return decoded"
   ]
  },
  {
   "cell_type": "code",
   "execution_count": 9,
   "id": "8ed6603f-fccf-4788-8961-7c6b7f5bd7e5",
   "metadata": {},
   "outputs": [],
   "source": [
    "autoencoder=Autoencoder()\n",
    "criterion=nn.MSELoss()\n",
    "optimizer=optim.Adam(autoencoder.parameters(),lr=0.01)"
   ]
  },
  {
   "cell_type": "code",
   "execution_count": 10,
   "id": "8ad4f2d9-5f36-4576-9dd4-5d10d3808b9f",
   "metadata": {},
   "outputs": [],
   "source": [
    "num_epochs=100\n",
    "for epoch in range(num_epochs):\n",
    "    for data in data_loader:\n",
    "        inputs, =data\n",
    "        optimizer.zero_grad()\n",
    "        outputs=autoencoder(inputs)\n",
    "        loss=criterion(outputs, inputs)\n",
    "        loss.backward()\n",
    "        optimizer.step()"
   ]
  },
  {
   "cell_type": "code",
   "execution_count": 11,
   "id": "2a68055e-646c-4a85-862a-22cc8441bd64",
   "metadata": {},
   "outputs": [],
   "source": [
    "with torch.no_grad():\n",
    "    encoded_data=autoencoder.encoder(X_tensor).numpy()"
   ]
  },
  {
   "cell_type": "code",
   "execution_count": 12,
   "id": "cc898908-80a8-47c9-b466-e979ae1ac182",
   "metadata": {},
   "outputs": [
    {
     "name": "stderr",
     "output_type": "stream",
     "text": [
      "E:\\Anilesh\\anaconda3\\Lib\\site-packages\\sklearn\\cluster\\_kmeans.py:870: FutureWarning: The default value of `n_init` will change from 10 to 'auto' in 1.4. Set the value of `n_init` explicitly to suppress the warning\n",
      "  warnings.warn(\n",
      "E:\\Anilesh\\anaconda3\\Lib\\site-packages\\sklearn\\cluster\\_kmeans.py:1382: UserWarning: KMeans is known to have a memory leak on Windows with MKL, when there are less chunks than available threads. You can avoid it by setting the environment variable OMP_NUM_THREADS=1.\n",
      "  warnings.warn(\n"
     ]
    }
   ],
   "source": [
    "encoded_kmeans=KMeans(n_clusters=3,random_state=42)\n",
    "encoded_kmeans_labels=encoded_kmeans.fit_predict(encoded_data)"
   ]
  },
  {
   "cell_type": "code",
   "execution_count": 13,
   "id": "7af06832-c697-498a-af8c-ec6298844e34",
   "metadata": {},
   "outputs": [
    {
     "name": "stdout",
     "output_type": "stream",
     "text": [
      "Autoencoder + kmeans silhouette score : 0.4048068718871258\n"
     ]
    }
   ],
   "source": [
    "encoded_silhouette = silhouette_score(X_Scaled, encoded_kmeans_labels)\n",
    "print(f'Autoencoder + kmeans silhouette score : {encoded_silhouette}')"
   ]
  }
 ],
 "metadata": {
  "kernelspec": {
   "display_name": "Python 3 (ipykernel)",
   "language": "python",
   "name": "python3"
  },
  "language_info": {
   "codemirror_mode": {
    "name": "ipython",
    "version": 3
   },
   "file_extension": ".py",
   "mimetype": "text/x-python",
   "name": "python",
   "nbconvert_exporter": "python",
   "pygments_lexer": "ipython3",
   "version": "3.11.5"
  }
 },
 "nbformat": 4,
 "nbformat_minor": 5
}
